{
 "cells": [
  {
   "cell_type": "code",
   "execution_count": null,
   "metadata": {},
   "outputs": [],
   "source": [
    "# parameters\n",
    "%set_env CUDA_VISIBLE_DEVICES=2"
   ]
  },
  {
   "cell_type": "code",
   "execution_count": null,
   "metadata": {},
   "outputs": [],
   "source": [
    "from vllm import LLM, SamplingParams\n",
    "from vllm.inputs import PromptStrictInputs\n",
    "import numpy as np\n",
    "from typing import List\n",
    "import time"
   ]
  },
  {
   "cell_type": "code",
   "execution_count": null,
   "metadata": {},
   "outputs": [],
   "source": [
    "llm = LLM(model=\"/data/zhaoyiyang/Llama-2-7B-fp16\",\n",
    "\t\t  \tmax_model_len=2**17, max_num_batched_tokens=2**17)"
   ]
  },
  {
   "cell_type": "code",
   "execution_count": null,
   "metadata": {},
   "outputs": [],
   "source": [
    "input_len = 60000\n",
    "batch_size = 8\n",
    "output_len = 32"
   ]
  },
  {
   "cell_type": "code",
   "execution_count": null,
   "metadata": {},
   "outputs": [],
   "source": [
    "sampling_params = SamplingParams(\n",
    "\ttemperature=0.8,\n",
    "\ttop_p=0.95,\n",
    "\tignore_eos=True,\n",
    "\tmax_tokens=output_len\n",
    ")\n",
    "print(sampling_params)"
   ]
  },
  {
   "cell_type": "code",
   "execution_count": null,
   "metadata": {},
   "outputs": [],
   "source": [
    "dummy_prompt_token_ids = np.random.randint(10000,\n",
    "\t\t\t\t\t\t\t\t\tsize=(batch_size,\n",
    "\t\t\t\t\t\t\t\t\t\t\tinput_len))\n",
    "dummy_inputs: List[PromptStrictInputs] = [{\n",
    "\t\"prompt_token_ids\": batch\n",
    "} for batch in dummy_prompt_token_ids.tolist()]"
   ]
  },
  {
   "cell_type": "code",
   "execution_count": null,
   "metadata": {},
   "outputs": [],
   "source": [
    "outputs = llm.generate(dummy_inputs, sampling_params)"
   ]
  }
 ],
 "metadata": {
  "kernelspec": {
   "display_name": "nn",
   "language": "python",
   "name": "python3"
  },
  "language_info": {
   "codemirror_mode": {
    "name": "ipython",
    "version": 3
   },
   "file_extension": ".py",
   "mimetype": "text/x-python",
   "name": "python",
   "nbconvert_exporter": "python",
   "pygments_lexer": "ipython3",
   "version": "3.9.19"
  }
 },
 "nbformat": 4,
 "nbformat_minor": 2
}
